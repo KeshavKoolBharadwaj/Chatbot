{
 "cells": [
  {
   "cell_type": "code",
   "execution_count": 1,
   "id": "318cb986",
   "metadata": {},
   "outputs": [],
   "source": [
    "import pickle\n",
    "import numpy as np"
   ]
  },
  {
   "cell_type": "code",
   "execution_count": 2,
   "id": "eac41458",
   "metadata": {},
   "outputs": [],
   "source": [
    "with open(\"train_qa.txt\", \"rb\") as fp:   # Unpickling\n",
    "    train_data =  pickle.load(fp)"
   ]
  },
  {
   "cell_type": "code",
   "execution_count": 3,
   "id": "cff826a3",
   "metadata": {},
   "outputs": [],
   "source": [
    "with open(\"test_qa.txt\", \"rb\") as fp:   # Unpickling\n",
    "    test_data =  pickle.load(fp)\n",
    "    "
   ]
  },
  {
   "cell_type": "code",
   "execution_count": 4,
   "id": "65d51f18",
   "metadata": {},
   "outputs": [],
   "source": [
    "vocab = set()"
   ]
  },
  {
   "cell_type": "code",
   "execution_count": 5,
   "id": "75c292a0",
   "metadata": {},
   "outputs": [],
   "source": [
    "all_data = test_data + train_data"
   ]
  },
  {
   "cell_type": "code",
   "execution_count": 6,
   "id": "10601410",
   "metadata": {},
   "outputs": [],
   "source": [
    "for story, question , answer in all_data:\n",
    "    vocab = vocab.union(set(story))\n",
    "    vocab = vocab.union(set(question))"
   ]
  },
  {
   "cell_type": "code",
   "execution_count": 7,
   "id": "808a8e8e",
   "metadata": {},
   "outputs": [],
   "source": [
    "vocab.add('no')\n",
    "vocab.add('yes')"
   ]
  },
  {
   "cell_type": "code",
   "execution_count": 8,
   "id": "57d6afc6",
   "metadata": {},
   "outputs": [
    {
     "data": {
      "text/plain": [
       "{'.',\n",
       " '?',\n",
       " 'Daniel',\n",
       " 'Is',\n",
       " 'John',\n",
       " 'Mary',\n",
       " 'Sandra',\n",
       " 'apple',\n",
       " 'back',\n",
       " 'bathroom',\n",
       " 'bedroom',\n",
       " 'discarded',\n",
       " 'down',\n",
       " 'dropped',\n",
       " 'football',\n",
       " 'garden',\n",
       " 'got',\n",
       " 'grabbed',\n",
       " 'hallway',\n",
       " 'in',\n",
       " 'journeyed',\n",
       " 'kitchen',\n",
       " 'left',\n",
       " 'milk',\n",
       " 'moved',\n",
       " 'no',\n",
       " 'office',\n",
       " 'picked',\n",
       " 'put',\n",
       " 'the',\n",
       " 'there',\n",
       " 'to',\n",
       " 'took',\n",
       " 'travelled',\n",
       " 'up',\n",
       " 'went',\n",
       " 'yes'}"
      ]
     },
     "execution_count": 8,
     "metadata": {},
     "output_type": "execute_result"
    }
   ],
   "source": [
    "vocab"
   ]
  },
  {
   "cell_type": "code",
   "execution_count": 9,
   "id": "1d0ce2ea",
   "metadata": {},
   "outputs": [],
   "source": [
    "vocab_len = len(vocab) + 1"
   ]
  },
  {
   "cell_type": "code",
   "execution_count": 10,
   "id": "546a59a5",
   "metadata": {},
   "outputs": [],
   "source": [
    "max_story_len = max([len(data[0]) for data in all_data])"
   ]
  },
  {
   "cell_type": "code",
   "execution_count": 11,
   "id": "288c33c4",
   "metadata": {},
   "outputs": [
    {
     "data": {
      "text/plain": [
       "156"
      ]
     },
     "execution_count": 11,
     "metadata": {},
     "output_type": "execute_result"
    }
   ],
   "source": [
    "max_story_len"
   ]
  },
  {
   "cell_type": "code",
   "execution_count": 12,
   "id": "61e78b29",
   "metadata": {},
   "outputs": [],
   "source": [
    "max_question_len = max([len(data[1]) for data in all_data])"
   ]
  },
  {
   "cell_type": "code",
   "execution_count": 13,
   "id": "03051c70",
   "metadata": {},
   "outputs": [
    {
     "data": {
      "text/plain": [
       "6"
      ]
     },
     "execution_count": 13,
     "metadata": {},
     "output_type": "execute_result"
    }
   ],
   "source": [
    "max_question_len"
   ]
  },
  {
   "cell_type": "code",
   "execution_count": 14,
   "id": "530e7b94",
   "metadata": {},
   "outputs": [
    {
     "data": {
      "text/plain": [
       "{'.',\n",
       " '?',\n",
       " 'Daniel',\n",
       " 'Is',\n",
       " 'John',\n",
       " 'Mary',\n",
       " 'Sandra',\n",
       " 'apple',\n",
       " 'back',\n",
       " 'bathroom',\n",
       " 'bedroom',\n",
       " 'discarded',\n",
       " 'down',\n",
       " 'dropped',\n",
       " 'football',\n",
       " 'garden',\n",
       " 'got',\n",
       " 'grabbed',\n",
       " 'hallway',\n",
       " 'in',\n",
       " 'journeyed',\n",
       " 'kitchen',\n",
       " 'left',\n",
       " 'milk',\n",
       " 'moved',\n",
       " 'no',\n",
       " 'office',\n",
       " 'picked',\n",
       " 'put',\n",
       " 'the',\n",
       " 'there',\n",
       " 'to',\n",
       " 'took',\n",
       " 'travelled',\n",
       " 'up',\n",
       " 'went',\n",
       " 'yes'}"
      ]
     },
     "execution_count": 14,
     "metadata": {},
     "output_type": "execute_result"
    }
   ],
   "source": [
    "vocab"
   ]
  },
  {
   "cell_type": "code",
   "execution_count": 15,
   "id": "b7255dfb",
   "metadata": {},
   "outputs": [],
   "source": [
    "vocab_size = len(vocab) + 1"
   ]
  },
  {
   "cell_type": "code",
   "execution_count": null,
   "id": "585d0498",
   "metadata": {},
   "outputs": [],
   "source": [
    "from keras.preprocessing.sequence import pad_sequences\n",
    "from keras.preprocessing.text import Tokenizer"
   ]
  },
  {
   "cell_type": "code",
   "execution_count": 22,
   "id": "6020b4cb",
   "metadata": {},
   "outputs": [],
   "source": [
    "from keras.utils import pad_sequences"
   ]
  },
  {
   "cell_type": "code",
   "execution_count": 23,
   "id": "7b6b56d3",
   "metadata": {},
   "outputs": [],
   "source": [
    "from keras.preprocessing.text import Tokenizer"
   ]
  },
  {
   "cell_type": "code",
   "execution_count": 24,
   "id": "4ebee818",
   "metadata": {},
   "outputs": [],
   "source": [
    "tokenizer = Tokenizer(filters=[])\n",
    "tokenizer.fit_on_texts(vocab)"
   ]
  },
  {
   "cell_type": "code",
   "execution_count": 25,
   "id": "7c61e66b",
   "metadata": {},
   "outputs": [
    {
     "data": {
      "text/plain": [
       "{'left': 1,\n",
       " 'football': 2,\n",
       " 'took': 3,\n",
       " 'grabbed': 4,\n",
       " 'went': 5,\n",
       " 'john': 6,\n",
       " 'moved': 7,\n",
       " 'apple': 8,\n",
       " 'yes': 9,\n",
       " 'in': 10,\n",
       " 'back': 11,\n",
       " 'journeyed': 12,\n",
       " 'picked': 13,\n",
       " 'the': 14,\n",
       " '?': 15,\n",
       " 'up': 16,\n",
       " 'to': 17,\n",
       " 'mary': 18,\n",
       " 'is': 19,\n",
       " '.': 20,\n",
       " 'hallway': 21,\n",
       " 'down': 22,\n",
       " 'there': 23,\n",
       " 'bedroom': 24,\n",
       " 'bathroom': 25,\n",
       " 'office': 26,\n",
       " 'garden': 27,\n",
       " 'kitchen': 28,\n",
       " 'got': 29,\n",
       " 'sandra': 30,\n",
       " 'daniel': 31,\n",
       " 'no': 32,\n",
       " 'discarded': 33,\n",
       " 'put': 34,\n",
       " 'milk': 35,\n",
       " 'dropped': 36,\n",
       " 'travelled': 37}"
      ]
     },
     "execution_count": 25,
     "metadata": {},
     "output_type": "execute_result"
    }
   ],
   "source": [
    "tokenizer.word_index"
   ]
  },
  {
   "cell_type": "code",
   "execution_count": 26,
   "id": "e521c68a",
   "metadata": {},
   "outputs": [],
   "source": [
    "train_story_text = []\n",
    "train_question_text = []\n",
    "train_answers = []\n",
    "\n",
    "for story,question,answer in train_data:\n",
    "    train_story_text.append(story)\n",
    "    train_question_text.append(question)"
   ]
  },
  {
   "cell_type": "code",
   "execution_count": 27,
   "id": "fc98177a",
   "metadata": {},
   "outputs": [],
   "source": [
    "train_story_seq = tokenizer.texts_to_sequences(train_story_text)"
   ]
  },
  {
   "cell_type": "code",
   "execution_count": 28,
   "id": "6a403141",
   "metadata": {},
   "outputs": [
    {
     "data": {
      "text/plain": [
       "10000"
      ]
     },
     "execution_count": 28,
     "metadata": {},
     "output_type": "execute_result"
    }
   ],
   "source": [
    "len(train_story_text)"
   ]
  },
  {
   "cell_type": "code",
   "execution_count": 29,
   "id": "d2a63d88",
   "metadata": {},
   "outputs": [
    {
     "data": {
      "text/plain": [
       "10000"
      ]
     },
     "execution_count": 29,
     "metadata": {},
     "output_type": "execute_result"
    }
   ],
   "source": [
    "len(train_story_seq)"
   ]
  },
  {
   "cell_type": "code",
   "execution_count": 30,
   "id": "89bc7753",
   "metadata": {},
   "outputs": [],
   "source": [
    "def vectorize_stories(data, word_index=tokenizer.word_index, max_story_len=max_story_len,max_question_len=max_question_len):\n",
    "    X = []\n",
    "    Xq = []\n",
    "    Y = []    \n",
    "    for story, query, answer in data:\n",
    "        x = [word_index[word.lower()] for word in story]\n",
    "        xq = [word_index[word.lower()] for word in query]\n",
    "        y = np.zeros(len(word_index) + 1)\n",
    "        y[word_index[answer]] = 1\n",
    "        X.append(x)\n",
    "        Xq.append(xq)\n",
    "        Y.append(y)\n",
    "    return (pad_sequences(X, maxlen=max_story_len),pad_sequences(Xq, maxlen=max_question_len), np.array(Y))"
   ]
  },
  {
   "cell_type": "code",
   "execution_count": 31,
   "id": "482d71cf",
   "metadata": {},
   "outputs": [],
   "source": [
    "inputs_train, queries_train, answers_train = vectorize_stories(train_data)"
   ]
  },
  {
   "cell_type": "code",
   "execution_count": 32,
   "id": "28f29fa0",
   "metadata": {},
   "outputs": [],
   "source": [
    "inputs_test, queries_test, answers_test = vectorize_stories(test_data)"
   ]
  },
  {
   "cell_type": "code",
   "execution_count": 33,
   "id": "07b258b1",
   "metadata": {},
   "outputs": [
    {
     "data": {
      "text/plain": [
       "array([[ 0,  0,  0, ..., 14, 24, 20],\n",
       "       [ 0,  0,  0, ..., 14, 27, 20],\n",
       "       [ 0,  0,  0, ..., 14, 27, 20],\n",
       "       ...,\n",
       "       [ 0,  0,  0, ..., 14,  8, 20],\n",
       "       [ 0,  0,  0, ..., 14, 27, 20],\n",
       "       [ 0,  0,  0, ...,  8, 23, 20]])"
      ]
     },
     "execution_count": 33,
     "metadata": {},
     "output_type": "execute_result"
    }
   ],
   "source": [
    "inputs_test"
   ]
  },
  {
   "cell_type": "code",
   "execution_count": 34,
   "id": "a6d7f9f9",
   "metadata": {},
   "outputs": [
    {
     "data": {
      "text/plain": [
       "array([[19,  6, 10, 14, 28, 15],\n",
       "       [19,  6, 10, 14, 28, 15],\n",
       "       [19,  6, 10, 14, 27, 15],\n",
       "       ...,\n",
       "       [19, 18, 10, 14, 24, 15],\n",
       "       [19, 30, 10, 14, 27, 15],\n",
       "       [19, 18, 10, 14, 27, 15]])"
      ]
     },
     "execution_count": 34,
     "metadata": {},
     "output_type": "execute_result"
    }
   ],
   "source": [
    "queries_test\n"
   ]
  },
  {
   "cell_type": "code",
   "execution_count": 35,
   "id": "43db3ff1",
   "metadata": {},
   "outputs": [
    {
     "data": {
      "text/plain": [
       "array([[0., 0., 0., ..., 0., 0., 0.],\n",
       "       [0., 0., 0., ..., 0., 0., 0.],\n",
       "       [0., 0., 0., ..., 0., 0., 0.],\n",
       "       ...,\n",
       "       [0., 0., 0., ..., 0., 0., 0.],\n",
       "       [0., 0., 0., ..., 0., 0., 0.],\n",
       "       [0., 0., 0., ..., 0., 0., 0.]])"
      ]
     },
     "execution_count": 35,
     "metadata": {},
     "output_type": "execute_result"
    }
   ],
   "source": [
    "answers_test"
   ]
  },
  {
   "cell_type": "code",
   "execution_count": 36,
   "id": "4f9407e9",
   "metadata": {},
   "outputs": [
    {
     "data": {
      "text/plain": [
       "array([  0.,   0.,   0.,   0.,   0.,   0.,   0.,   0.,   0., 497.,   0.,\n",
       "         0.,   0.,   0.,   0.,   0.,   0.,   0.,   0.,   0.,   0.,   0.,\n",
       "         0.,   0.,   0.,   0.,   0.,   0.,   0.,   0.,   0.,   0., 503.,\n",
       "         0.,   0.,   0.,   0.,   0.])"
      ]
     },
     "execution_count": 36,
     "metadata": {},
     "output_type": "execute_result"
    }
   ],
   "source": [
    "sum(answers_test)"
   ]
  },
  {
   "cell_type": "code",
   "execution_count": 37,
   "id": "9adcdf6d",
   "metadata": {},
   "outputs": [
    {
     "data": {
      "text/plain": [
       "9"
      ]
     },
     "execution_count": 37,
     "metadata": {},
     "output_type": "execute_result"
    }
   ],
   "source": [
    "tokenizer.word_index['yes']"
   ]
  },
  {
   "cell_type": "code",
   "execution_count": 38,
   "id": "d73a9840",
   "metadata": {},
   "outputs": [
    {
     "data": {
      "text/plain": [
       "32"
      ]
     },
     "execution_count": 38,
     "metadata": {},
     "output_type": "execute_result"
    }
   ],
   "source": [
    "tokenizer.word_index['no']"
   ]
  },
  {
   "cell_type": "code",
   "execution_count": 41,
   "id": "4a9304a6",
   "metadata": {},
   "outputs": [],
   "source": [
    "from keras.models import Sequential, Model\n",
    "from tensorflow.keras.layers import Embedding\n",
    "from keras.layers import Input, Activation, Dense, Permute, Dropout\n",
    "from keras.layers import add, dot, concatenate\n",
    "from keras.layers import LSTM"
   ]
  },
  {
   "cell_type": "code",
   "execution_count": 42,
   "id": "7bf4c117",
   "metadata": {},
   "outputs": [],
   "source": [
    "input_sequence = Input((max_story_len,))\n",
    "question = Input((max_question_len,))"
   ]
  },
  {
   "cell_type": "code",
   "execution_count": 43,
   "id": "50d00112",
   "metadata": {},
   "outputs": [],
   "source": [
    "input_encoder_m = Sequential()\n",
    "input_encoder_m.add(Embedding(input_dim=vocab_size,output_dim=64))\n",
    "input_encoder_m.add(Dropout(0.3))\n"
   ]
  },
  {
   "cell_type": "code",
   "execution_count": 44,
   "id": "2c4d9d72",
   "metadata": {},
   "outputs": [],
   "source": [
    "input_encoder_c = Sequential()\n",
    "input_encoder_c.add(Embedding(input_dim=vocab_size,output_dim=max_question_len))\n",
    "input_encoder_c.add(Dropout(0.3))"
   ]
  },
  {
   "cell_type": "code",
   "execution_count": 45,
   "id": "0613d3fc",
   "metadata": {},
   "outputs": [],
   "source": [
    "question_encoder = Sequential()\n",
    "question_encoder.add(Embedding(input_dim=vocab_size,\n",
    "                               output_dim=64,\n",
    "                               input_length=max_question_len))\n",
    "question_encoder.add(Dropout(0.3))"
   ]
  },
  {
   "cell_type": "code",
   "execution_count": 46,
   "id": "5ba69caa",
   "metadata": {},
   "outputs": [],
   "source": [
    "input_encoded_m = input_encoder_m(input_sequence)\n",
    "input_encoded_c = input_encoder_c(input_sequence)\n",
    "question_encoded = question_encoder(question)"
   ]
  },
  {
   "cell_type": "code",
   "execution_count": 47,
   "id": "dad8d0a7",
   "metadata": {},
   "outputs": [],
   "source": [
    "match = dot([input_encoded_m, question_encoded], axes=(2, 2))\n",
    "match = Activation('softmax')(match)"
   ]
  },
  {
   "cell_type": "code",
   "execution_count": 48,
   "id": "ddf5d092",
   "metadata": {},
   "outputs": [],
   "source": [
    "response = add([match, input_encoded_c])\n",
    "response = Permute((2, 1))(response)"
   ]
  },
  {
   "cell_type": "code",
   "execution_count": 49,
   "id": "6c715c95",
   "metadata": {},
   "outputs": [],
   "source": [
    "answer = concatenate([response, question_encoded])"
   ]
  },
  {
   "cell_type": "code",
   "execution_count": 50,
   "id": "adbf6c03",
   "metadata": {},
   "outputs": [
    {
     "data": {
      "text/plain": [
       "<KerasTensor: shape=(None, 6, 220) dtype=float32 (created by layer 'concatenate')>"
      ]
     },
     "execution_count": 50,
     "metadata": {},
     "output_type": "execute_result"
    }
   ],
   "source": [
    "answer"
   ]
  },
  {
   "cell_type": "code",
   "execution_count": 51,
   "id": "9fda1459",
   "metadata": {},
   "outputs": [],
   "source": [
    "answer = LSTM(32)(answer)"
   ]
  },
  {
   "cell_type": "code",
   "execution_count": 52,
   "id": "e54f8912",
   "metadata": {},
   "outputs": [],
   "source": [
    "answer = Dropout(0.5)(answer)\n",
    "answer = Dense(vocab_size)(answer) "
   ]
  },
  {
   "cell_type": "code",
   "execution_count": 53,
   "id": "6cd44c8d",
   "metadata": {},
   "outputs": [],
   "source": [
    "answer = Activation('softmax')(answer)\n",
    "\n",
    "# build the final model\n",
    "model = Model([input_sequence, question], answer)\n",
    "model.compile(optimizer='rmsprop', loss='categorical_crossentropy',\n",
    "              metrics=['accuracy'])"
   ]
  },
  {
   "cell_type": "code",
   "execution_count": 54,
   "id": "720807ef",
   "metadata": {},
   "outputs": [
    {
     "name": "stdout",
     "output_type": "stream",
     "text": [
      "Model: \"model\"\n",
      "__________________________________________________________________________________________________\n",
      " Layer (type)                   Output Shape         Param #     Connected to                     \n",
      "==================================================================================================\n",
      " input_1 (InputLayer)           [(None, 156)]        0           []                               \n",
      "                                                                                                  \n",
      " input_2 (InputLayer)           [(None, 6)]          0           []                               \n",
      "                                                                                                  \n",
      " sequential (Sequential)        (None, None, 64)     2432        ['input_1[0][0]']                \n",
      "                                                                                                  \n",
      " sequential_2 (Sequential)      (None, 6, 64)        2432        ['input_2[0][0]']                \n",
      "                                                                                                  \n",
      " dot (Dot)                      (None, 156, 6)       0           ['sequential[0][0]',             \n",
      "                                                                  'sequential_2[0][0]']           \n",
      "                                                                                                  \n",
      " activation (Activation)        (None, 156, 6)       0           ['dot[0][0]']                    \n",
      "                                                                                                  \n",
      " sequential_1 (Sequential)      (None, None, 6)      228         ['input_1[0][0]']                \n",
      "                                                                                                  \n",
      " add (Add)                      (None, 156, 6)       0           ['activation[0][0]',             \n",
      "                                                                  'sequential_1[0][0]']           \n",
      "                                                                                                  \n",
      " permute (Permute)              (None, 6, 156)       0           ['add[0][0]']                    \n",
      "                                                                                                  \n",
      " concatenate (Concatenate)      (None, 6, 220)       0           ['permute[0][0]',                \n",
      "                                                                  'sequential_2[0][0]']           \n",
      "                                                                                                  \n",
      " lstm (LSTM)                    (None, 32)           32384       ['concatenate[0][0]']            \n",
      "                                                                                                  \n",
      " dropout_3 (Dropout)            (None, 32)           0           ['lstm[0][0]']                   \n",
      "                                                                                                  \n",
      " dense (Dense)                  (None, 38)           1254        ['dropout_3[0][0]']              \n",
      "                                                                                                  \n",
      " activation_1 (Activation)      (None, 38)           0           ['dense[0][0]']                  \n",
      "                                                                                                  \n",
      "==================================================================================================\n",
      "Total params: 38,730\n",
      "Trainable params: 38,730\n",
      "Non-trainable params: 0\n",
      "__________________________________________________________________________________________________\n"
     ]
    }
   ],
   "source": [
    "model.summary()"
   ]
  },
  {
   "cell_type": "code",
   "execution_count": 55,
   "id": "26e13ccc",
   "metadata": {},
   "outputs": [
    {
     "name": "stdout",
     "output_type": "stream",
     "text": [
      "Epoch 1/64\n",
      "625/625 [==============================] - 8s 10ms/step - loss: 0.8268 - accuracy: 0.4984 - val_loss: 0.6946 - val_accuracy: 0.4970\n",
      "Epoch 2/64\n",
      "625/625 [==============================] - 6s 9ms/step - loss: 0.7004 - accuracy: 0.4957 - val_loss: 0.6944 - val_accuracy: 0.4970\n",
      "Epoch 3/64\n",
      "625/625 [==============================] - 6s 10ms/step - loss: 0.6972 - accuracy: 0.5046 - val_loss: 0.6932 - val_accuracy: 0.5030\n",
      "Epoch 4/64\n",
      "625/625 [==============================] - 6s 9ms/step - loss: 0.6958 - accuracy: 0.5085 - val_loss: 0.6982 - val_accuracy: 0.4970\n",
      "Epoch 5/64\n",
      "625/625 [==============================] - 6s 10ms/step - loss: 0.6961 - accuracy: 0.5008 - val_loss: 0.6945 - val_accuracy: 0.5030\n",
      "Epoch 6/64\n",
      "625/625 [==============================] - 6s 9ms/step - loss: 0.6959 - accuracy: 0.4964 - val_loss: 0.6955 - val_accuracy: 0.4970\n",
      "Epoch 7/64\n",
      "625/625 [==============================] - 6s 9ms/step - loss: 0.6955 - accuracy: 0.5043 - val_loss: 0.6932 - val_accuracy: 0.5030\n",
      "Epoch 8/64\n",
      "625/625 [==============================] - 6s 10ms/step - loss: 0.6960 - accuracy: 0.4973 - val_loss: 0.6967 - val_accuracy: 0.5030\n",
      "Epoch 9/64\n",
      "625/625 [==============================] - 5s 9ms/step - loss: 0.6958 - accuracy: 0.4955 - val_loss: 0.6949 - val_accuracy: 0.5030\n",
      "Epoch 10/64\n",
      "625/625 [==============================] - 6s 10ms/step - loss: 0.6952 - accuracy: 0.5070 - val_loss: 0.6932 - val_accuracy: 0.5030\n",
      "Epoch 11/64\n",
      "625/625 [==============================] - 6s 10ms/step - loss: 0.6955 - accuracy: 0.4986 - val_loss: 0.6936 - val_accuracy: 0.4970\n",
      "Epoch 12/64\n",
      "625/625 [==============================] - 5s 9ms/step - loss: 0.6960 - accuracy: 0.4950 - val_loss: 0.6934 - val_accuracy: 0.5030\n",
      "Epoch 13/64\n",
      "625/625 [==============================] - 5s 8ms/step - loss: 0.6958 - accuracy: 0.4957 - val_loss: 0.6939 - val_accuracy: 0.4970\n",
      "Epoch 14/64\n",
      "625/625 [==============================] - 5s 8ms/step - loss: 0.6953 - accuracy: 0.4963 - val_loss: 0.6935 - val_accuracy: 0.4970\n",
      "Epoch 15/64\n",
      "625/625 [==============================] - 5s 8ms/step - loss: 0.6957 - accuracy: 0.4984 - val_loss: 0.6932 - val_accuracy: 0.4920\n",
      "Epoch 16/64\n",
      "625/625 [==============================] - 5s 8ms/step - loss: 0.6949 - accuracy: 0.5124 - val_loss: 0.6944 - val_accuracy: 0.4970\n",
      "Epoch 17/64\n",
      "625/625 [==============================] - 6s 9ms/step - loss: 0.6951 - accuracy: 0.5037 - val_loss: 0.6935 - val_accuracy: 0.4970\n",
      "Epoch 18/64\n",
      "625/625 [==============================] - 6s 9ms/step - loss: 0.6962 - accuracy: 0.4963 - val_loss: 0.6974 - val_accuracy: 0.4970\n",
      "Epoch 19/64\n",
      "625/625 [==============================] - 5s 9ms/step - loss: 0.6951 - accuracy: 0.4999 - val_loss: 0.6932 - val_accuracy: 0.5030\n",
      "Epoch 20/64\n",
      "625/625 [==============================] - 5s 8ms/step - loss: 0.6953 - accuracy: 0.4999 - val_loss: 0.6934 - val_accuracy: 0.4970\n",
      "Epoch 21/64\n",
      "625/625 [==============================] - 5s 8ms/step - loss: 0.6952 - accuracy: 0.5043 - val_loss: 0.6932 - val_accuracy: 0.5030\n",
      "Epoch 22/64\n",
      "625/625 [==============================] - 6s 9ms/step - loss: 0.6954 - accuracy: 0.4968 - val_loss: 0.6934 - val_accuracy: 0.5050\n",
      "Epoch 23/64\n",
      "625/625 [==============================] - 6s 9ms/step - loss: 0.6952 - accuracy: 0.4996 - val_loss: 0.6941 - val_accuracy: 0.4970\n",
      "Epoch 24/64\n",
      "625/625 [==============================] - 6s 9ms/step - loss: 0.6953 - accuracy: 0.4935 - val_loss: 0.6941 - val_accuracy: 0.4970\n",
      "Epoch 25/64\n",
      "625/625 [==============================] - 5s 9ms/step - loss: 0.6953 - accuracy: 0.5015 - val_loss: 0.6945 - val_accuracy: 0.5030\n",
      "Epoch 26/64\n",
      "625/625 [==============================] - 5s 9ms/step - loss: 0.6948 - accuracy: 0.5079 - val_loss: 0.6939 - val_accuracy: 0.5030\n",
      "Epoch 27/64\n",
      "625/625 [==============================] - 5s 9ms/step - loss: 0.6950 - accuracy: 0.5041 - val_loss: 0.6945 - val_accuracy: 0.4960\n",
      "Epoch 28/64\n",
      "625/625 [==============================] - 5s 8ms/step - loss: 0.6950 - accuracy: 0.5057 - val_loss: 0.6942 - val_accuracy: 0.4970\n",
      "Epoch 29/64\n",
      "625/625 [==============================] - 6s 9ms/step - loss: 0.6953 - accuracy: 0.5012 - val_loss: 0.6934 - val_accuracy: 0.4960\n",
      "Epoch 30/64\n",
      "625/625 [==============================] - 6s 9ms/step - loss: 0.6929 - accuracy: 0.5168 - val_loss: 0.6990 - val_accuracy: 0.4970\n",
      "Epoch 31/64\n",
      "625/625 [==============================] - 5s 8ms/step - loss: 0.6943 - accuracy: 0.5114 - val_loss: 0.6950 - val_accuracy: 0.4980\n",
      "Epoch 32/64\n",
      "625/625 [==============================] - 5s 9ms/step - loss: 0.6936 - accuracy: 0.5163 - val_loss: 0.6939 - val_accuracy: 0.4990\n",
      "Epoch 33/64\n",
      "625/625 [==============================] - 5s 8ms/step - loss: 0.6905 - accuracy: 0.5326 - val_loss: 0.6874 - val_accuracy: 0.5370\n",
      "Epoch 34/64\n",
      "625/625 [==============================] - 6s 9ms/step - loss: 0.6783 - accuracy: 0.5676 - val_loss: 0.6674 - val_accuracy: 0.5920\n",
      "Epoch 35/64\n",
      "625/625 [==============================] - 5s 8ms/step - loss: 0.6535 - accuracy: 0.6183 - val_loss: 0.6372 - val_accuracy: 0.6390\n",
      "Epoch 36/64\n",
      "625/625 [==============================] - 5s 8ms/step - loss: 0.6340 - accuracy: 0.6504 - val_loss: 0.6296 - val_accuracy: 0.6480\n",
      "Epoch 37/64\n",
      "625/625 [==============================] - 6s 10ms/step - loss: 0.6275 - accuracy: 0.6630 - val_loss: 0.6226 - val_accuracy: 0.6560\n",
      "Epoch 38/64\n",
      "625/625 [==============================] - 6s 10ms/step - loss: 0.6190 - accuracy: 0.6704 - val_loss: 0.6224 - val_accuracy: 0.6520\n",
      "Epoch 39/64\n",
      "625/625 [==============================] - 6s 9ms/step - loss: 0.6099 - accuracy: 0.6845 - val_loss: 0.6300 - val_accuracy: 0.6500\n",
      "Epoch 40/64\n",
      "625/625 [==============================] - 5s 9ms/step - loss: 0.6050 - accuracy: 0.6879 - val_loss: 0.6029 - val_accuracy: 0.6750\n",
      "Epoch 41/64\n",
      "625/625 [==============================] - 6s 9ms/step - loss: 0.5925 - accuracy: 0.6996 - val_loss: 0.5880 - val_accuracy: 0.6910\n",
      "Epoch 42/64\n",
      "625/625 [==============================] - 6s 9ms/step - loss: 0.5842 - accuracy: 0.7061 - val_loss: 0.5661 - val_accuracy: 0.7160\n",
      "Epoch 43/64\n",
      "625/625 [==============================] - 6s 9ms/step - loss: 0.5694 - accuracy: 0.7100 - val_loss: 0.5644 - val_accuracy: 0.6970\n",
      "Epoch 44/64\n",
      "625/625 [==============================] - 5s 8ms/step - loss: 0.5527 - accuracy: 0.7248 - val_loss: 0.5479 - val_accuracy: 0.7070\n",
      "Epoch 45/64\n",
      "625/625 [==============================] - 5s 9ms/step - loss: 0.5382 - accuracy: 0.7352 - val_loss: 0.5231 - val_accuracy: 0.7420\n",
      "Epoch 46/64\n",
      "625/625 [==============================] - 6s 9ms/step - loss: 0.5293 - accuracy: 0.7423 - val_loss: 0.5075 - val_accuracy: 0.7370\n",
      "Epoch 47/64\n",
      "625/625 [==============================] - 5s 8ms/step - loss: 0.5193 - accuracy: 0.7502 - val_loss: 0.5101 - val_accuracy: 0.7440\n",
      "Epoch 48/64\n",
      "625/625 [==============================] - 5s 8ms/step - loss: 0.5037 - accuracy: 0.7607 - val_loss: 0.4961 - val_accuracy: 0.7640\n",
      "Epoch 49/64\n",
      "625/625 [==============================] - 6s 9ms/step - loss: 0.4948 - accuracy: 0.7644 - val_loss: 0.4916 - val_accuracy: 0.7400\n",
      "Epoch 50/64\n",
      "625/625 [==============================] - 5s 9ms/step - loss: 0.4822 - accuracy: 0.7714 - val_loss: 0.4727 - val_accuracy: 0.7710\n",
      "Epoch 51/64\n",
      "625/625 [==============================] - 6s 10ms/step - loss: 0.4768 - accuracy: 0.7774 - val_loss: 0.4832 - val_accuracy: 0.7660\n",
      "Epoch 52/64\n",
      "625/625 [==============================] - 6s 9ms/step - loss: 0.4678 - accuracy: 0.7790 - val_loss: 0.4605 - val_accuracy: 0.7640\n",
      "Epoch 53/64\n",
      "625/625 [==============================] - 5s 8ms/step - loss: 0.4574 - accuracy: 0.7907 - val_loss: 0.4624 - val_accuracy: 0.7790\n",
      "Epoch 54/64\n",
      "625/625 [==============================] - 6s 9ms/step - loss: 0.4532 - accuracy: 0.7909 - val_loss: 0.4437 - val_accuracy: 0.7890\n",
      "Epoch 55/64\n",
      "625/625 [==============================] - 6s 9ms/step - loss: 0.4409 - accuracy: 0.7980 - val_loss: 0.4332 - val_accuracy: 0.7900\n",
      "Epoch 56/64\n",
      "625/625 [==============================] - 5s 8ms/step - loss: 0.4354 - accuracy: 0.8018 - val_loss: 0.4398 - val_accuracy: 0.7820\n",
      "Epoch 57/64\n",
      "625/625 [==============================] - 6s 9ms/step - loss: 0.4276 - accuracy: 0.8058 - val_loss: 0.4310 - val_accuracy: 0.7970\n",
      "Epoch 58/64\n",
      "625/625 [==============================] - 7s 12ms/step - loss: 0.4190 - accuracy: 0.8121 - val_loss: 0.4744 - val_accuracy: 0.7720\n",
      "Epoch 59/64\n",
      "625/625 [==============================] - 7s 11ms/step - loss: 0.4170 - accuracy: 0.8126 - val_loss: 0.4321 - val_accuracy: 0.7810\n",
      "Epoch 60/64\n",
      "625/625 [==============================] - 6s 10ms/step - loss: 0.4129 - accuracy: 0.8155 - val_loss: 0.4459 - val_accuracy: 0.7780\n",
      "Epoch 61/64\n",
      "625/625 [==============================] - 6s 9ms/step - loss: 0.4026 - accuracy: 0.8228 - val_loss: 0.4405 - val_accuracy: 0.7940\n",
      "Epoch 62/64\n",
      "625/625 [==============================] - 6s 9ms/step - loss: 0.4032 - accuracy: 0.8237 - val_loss: 0.4417 - val_accuracy: 0.7980\n",
      "Epoch 63/64\n",
      "625/625 [==============================] - 6s 10ms/step - loss: 0.3974 - accuracy: 0.8234 - val_loss: 0.4233 - val_accuracy: 0.8010\n",
      "Epoch 64/64\n",
      "625/625 [==============================] - 6s 9ms/step - loss: 0.3897 - accuracy: 0.8269 - val_loss: 0.4311 - val_accuracy: 0.7980\n"
     ]
    }
   ],
   "source": [
    "history = model.fit([inputs_train, queries_train], answers_train,batch_size=16,\n",
    "                    epochs=64,validation_data=([inputs_test, queries_test], answers_test))"
   ]
  },
  {
   "cell_type": "code",
   "execution_count": 56,
   "id": "4222b5d8",
   "metadata": {},
   "outputs": [],
   "source": [
    "filename = 'chatbot_120_epochs.h5'\n",
    "model.save(filename)"
   ]
  },
  {
   "cell_type": "code",
   "execution_count": 57,
   "id": "29944c9f",
   "metadata": {},
   "outputs": [
    {
     "name": "stdout",
     "output_type": "stream",
     "text": [
      "dict_keys(['loss', 'accuracy', 'val_loss', 'val_accuracy'])\n"
     ]
    }
   ],
   "source": [
    "import matplotlib.pyplot as plt\n",
    "%matplotlib inline\n",
    "print(history.history.keys())"
   ]
  },
  {
   "cell_type": "code",
   "execution_count": 58,
   "id": "5805224d",
   "metadata": {},
   "outputs": [
    {
     "data": {
      "image/png": "[encoded data removed]",
      "text/plain": [
       "<Figure size 432x288 with 1 Axes>"
      ]
     },
     "metadata": {
      "needs_background": "light"
     },
     "output_type": "display_data"
    }
   ],
   "source": [
    "plt.plot(history.history['accuracy'])\n",
    "plt.plot(history.history['val_accuracy'])\n",
    "plt.title('model accuracy')\n",
    "plt.ylabel('accuracy')\n",
    "plt.xlabel('epoch')\n",
    "plt.grid()\n",
    "plt.legend(['train', 'test'], loc='upper left')\n",
    "plt.show()"
   ]
  },
  {
   "cell_type": "code",
   "execution_count": 59,
   "id": "e3264756",
   "metadata": {},
   "outputs": [
    {
     "data": {
      "image/png": "[encoded data removed]",
      "text/plain": [
       "<Figure size 432x288 with 1 Axes>"
      ]
     },
     "metadata": {
      "needs_background": "light"
     },
     "output_type": "display_data"
    }
   ],
   "source": [
    "plt.plot(history.history['loss'])\n",
    "plt.plot(history.history['val_loss'])\n",
    "plt.title('model loss')\n",
    "plt.ylabel('loss')\n",
    "plt.xlabel('epoch')\n",
    "plt.grid()\n",
    "plt.legend(['train', 'test'], loc='upper left')\n",
    "plt.show()"
   ]
  },
  {
   "cell_type": "code",
   "execution_count": 60,
   "id": "b6c437ee",
   "metadata": {},
   "outputs": [
    {
     "name": "stdout",
     "output_type": "stream",
     "text": [
      "32/32 [==============================] - 1s 5ms/step\n"
     ]
    }
   ],
   "source": [
    "model.load_weights(filename)\n",
    "pred_results = model.predict(([inputs_test, queries_test]))"
   ]
  },
  {
   "cell_type": "code",
   "execution_count": 61,
   "id": "e89ad930",
   "metadata": {},
   "outputs": [
    {
     "data": {
      "text/plain": [
       "['Mary',\n",
       " 'got',\n",
       " 'the',\n",
       " 'milk',\n",
       " 'there',\n",
       " '.',\n",
       " 'John',\n",
       " 'moved',\n",
       " 'to',\n",
       " 'the',\n",
       " 'bedroom',\n",
       " '.']"
      ]
     },
     "execution_count": 61,
     "metadata": {},
     "output_type": "execute_result"
    }
   ],
   "source": [
    "test_data[0][0]"
   ]
  },
  {
   "cell_type": "code",
   "execution_count": 62,
   "id": "1a7b60ca",
   "metadata": {},
   "outputs": [
    {
     "name": "stdout",
     "output_type": "stream",
     "text": [
      "Mary got the milk there . John moved to the bedroom .\n"
     ]
    }
   ],
   "source": [
    "story =' '.join(word for word in test_data[0][0])\n",
    "print(story)"
   ]
  },
  {
   "cell_type": "code",
   "execution_count": 63,
   "id": "29365386",
   "metadata": {},
   "outputs": [
    {
     "name": "stdout",
     "output_type": "stream",
     "text": [
      "Is John in the kitchen ?\n"
     ]
    }
   ],
   "source": [
    "query = ' '.join(word for word in test_data[0][1])\n",
    "print(query)"
   ]
  },
  {
   "cell_type": "code",
   "execution_count": 64,
   "id": "21f48250",
   "metadata": {},
   "outputs": [
    {
     "name": "stdout",
     "output_type": "stream",
     "text": [
      "True Test Answer from Data is: no\n"
     ]
    }
   ],
   "source": [
    "print(\"True Test Answer from Data is:\",test_data[0][2])"
   ]
  },
  {
   "cell_type": "code",
   "execution_count": 65,
   "id": "e7c99985",
   "metadata": {},
   "outputs": [
    {
     "name": "stdout",
     "output_type": "stream",
     "text": [
      "Predicted answer is:  no\n",
      "Probability of certainty was:  0.99213797\n"
     ]
    }
   ],
   "source": [
    "val_max = np.argmax(pred_results[0])\n",
    "\n",
    "for key, val in tokenizer.word_index.items():\n",
    "    if val == val_max:\n",
    "        k = key\n",
    "\n",
    "print(\"Predicted answer is: \", k)\n",
    "print(\"Probability of certainty was: \", pred_results[0][val_max])"
   ]
  },
  {
   "cell_type": "code",
   "execution_count": 66,
   "id": "e162979b",
   "metadata": {},
   "outputs": [
    {
     "data": {
      "text/plain": [
       "{'.',\n",
       " '?',\n",
       " 'Daniel',\n",
       " 'Is',\n",
       " 'John',\n",
       " 'Mary',\n",
       " 'Sandra',\n",
       " 'apple',\n",
       " 'back',\n",
       " 'bathroom',\n",
       " 'bedroom',\n",
       " 'discarded',\n",
       " 'down',\n",
       " 'dropped',\n",
       " 'football',\n",
       " 'garden',\n",
       " 'got',\n",
       " 'grabbed',\n",
       " 'hallway',\n",
       " 'in',\n",
       " 'journeyed',\n",
       " 'kitchen',\n",
       " 'left',\n",
       " 'milk',\n",
       " 'moved',\n",
       " 'no',\n",
       " 'office',\n",
       " 'picked',\n",
       " 'put',\n",
       " 'the',\n",
       " 'there',\n",
       " 'to',\n",
       " 'took',\n",
       " 'travelled',\n",
       " 'up',\n",
       " 'went',\n",
       " 'yes'}"
      ]
     },
     "execution_count": 66,
     "metadata": {},
     "output_type": "execute_result"
    }
   ],
   "source": [
    "vocab"
   ]
  },
  {
   "cell_type": "code",
   "execution_count": 67,
   "id": "09d6ec27",
   "metadata": {},
   "outputs": [
    {
     "data": {
      "text/plain": [
       "['John',\n",
       " 'left',\n",
       " 'the',\n",
       " 'kitchen',\n",
       " '.',\n",
       " 'Sandra',\n",
       " 'dropped',\n",
       " 'the',\n",
       " 'football',\n",
       " 'in',\n",
       " 'the',\n",
       " 'garden',\n",
       " '.']"
      ]
     },
     "execution_count": 67,
     "metadata": {},
     "output_type": "execute_result"
    }
   ],
   "source": [
    "my_story = \"John left the kitchen . Sandra dropped the football in the garden .\"\n",
    "my_story.split()"
   ]
  },
  {
   "cell_type": "code",
   "execution_count": 68,
   "id": "1450eba9",
   "metadata": {},
   "outputs": [],
   "source": [
    "my_question = \"Is the football in the garden ?\""
   ]
  },
  {
   "cell_type": "code",
   "execution_count": 69,
   "id": "68576c6e",
   "metadata": {},
   "outputs": [
    {
     "data": {
      "text/plain": [
       "['Is', 'the', 'football', 'in', 'the', 'garden', '?']"
      ]
     },
     "execution_count": 69,
     "metadata": {},
     "output_type": "execute_result"
    }
   ],
   "source": [
    "my_question.split()"
   ]
  },
  {
   "cell_type": "code",
   "execution_count": 70,
   "id": "070c05c3",
   "metadata": {},
   "outputs": [],
   "source": [
    "mydata = [(my_story.split(),my_question.split(),'yes')]"
   ]
  },
  {
   "cell_type": "code",
   "execution_count": 71,
   "id": "e1e6d096",
   "metadata": {},
   "outputs": [],
   "source": [
    "my_story,my_ques,my_ans = vectorize_stories(mydata)"
   ]
  },
  {
   "cell_type": "code",
   "execution_count": 72,
   "id": "ff8ba1c7",
   "metadata": {},
   "outputs": [
    {
     "name": "stdout",
     "output_type": "stream",
     "text": [
      "1/1 [==============================] - 0s 35ms/step\n"
     ]
    }
   ],
   "source": [
    "pred_results = model.predict(([ my_story, my_ques]))"
   ]
  },
  {
   "cell_type": "code",
   "execution_count": 73,
   "id": "bf599ba1",
   "metadata": {},
   "outputs": [
    {
     "name": "stdout",
     "output_type": "stream",
     "text": [
      "Predicted answer is:  yes\n",
      "Probability of certainty was:  0.6844451\n"
     ]
    }
   ],
   "source": [
    "val_max = np.argmax(pred_results[0])\n",
    "for key, val in tokenizer.word_index.items():\n",
    "    if val == val_max:\n",
    "        k = key\n",
    "print(\"Predicted answer is: \", k)\n",
    "print(\"Probability of certainty was: \", pred_results[0][val_max])"
   ]
  }
 ],
 "metadata": {
  "kernelspec": {
   "display_name": "Python 3",
   "language": "python",
   "name": "python3"
  },
  "language_info": {
   "codemirror_mode": {
    "name": "ipython",
    "version": 3
   },
   "file_extension": ".py",
   "mimetype": "text/x-python",
   "name": "python",
   "nbconvert_exporter": "python",
   "pygments_lexer": "ipython3",
   "version": "3.8.8"
  }
 },
 "nbformat": 4,
 "nbformat_minor": 5
}
